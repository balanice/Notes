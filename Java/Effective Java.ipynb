{
 "cells": [
  {
   "cell_type": "markdown",
   "metadata": {},
   "source": [
    "# Effective Java"
   ]
  },
  {
   "cell_type": "markdown",
   "metadata": {},
   "source": [
    "## Consider static factory method instead of public constructor.\n",
    "\n",
    "**Advantage:**\n",
    "\n",
    "    One advantage of static factory methods is that, unlike constructors, they have names.    \n",
    "    A second advantage of static methods is that, unlike constructors, they are not required to create a new object each time they're invoked.\n",
    "    A third advantage of static factory methods is that, unlike constructors, they can return an object of any subtype of their return type. This gives you great flexibility in choosing the class of the reurned object.\n",
    "    A fourth advantage of static factories is that the class of the returned object can vary from call to call as a function of the input parameters.\n",
    "    A fifth advantage of static factories is that the class of the returned object nedd not exists when the class containing the method is written.\n",
    "\n",
    "**Disadvantage:**\n",
    "    \n",
    "    The main limitation of providing only static factory methods is that classes without public or protected constructors cannot be subclassed.\n",
    "    A second shortcoming of static factory methods is that they are hart for programmers to find.\n"
   ]
  },
  {
   "cell_type": "markdown",
   "metadata": {},
   "source": [
    "## 2. Consider a builder when faced with many constructor parameters.\n",
    "## 3. Enforce the singleton property with a private constructor or an enum type.\n",
    "## 4. Perfer try-with-resources to try-finally(Since Java7).\n",
    "## 5. Override equals:\n",
    ">* Use the == operater to check if the argument is a reference to this object;\n",
    ">* Usb the instanceof operator to check if the argument has the correcttype;\n",
    ">* Cast the argument to the correct type;\n",
    ">* For each \"significant\" field in the class, check if that field of theargument matches the corresponding field of this object.\n",
    "\n",
    "## 6. Override clone judiciously.\n",
    "In practise, a class implementing Clonable is expected to provide a properly functioning public clone method."
   ]
  },
  {
   "cell_type": "markdown",
   "metadata": {},
   "source": [
    "## 7. In Java 8, the Comparator interface was outfited with a comparator construction methods, which enable fluent construction of comparators."
   ]
  },
  {
   "cell_type": "code",
   "execution_count": null,
   "metadata": {},
   "outputs": [],
   "source": [
    "private static Comparator<PhoneNumber> comparator = \n",
    "            Comparator.comparingInt((PhoneNumber pn) -> pn.areaCode)\n",
    "            .thenComparingInt(pn -> pn.prefix)\n",
    "            .thenComparingInt(pn -> pn.lineNum);\n",
    "\n",
    "@Override\n",
    "public int compareTo(@NotNull PhoneNumber o) {\n",
    "     return comparator.compare(this, o);\n",
    "}"
   ]
  },
  {
   "cell_type": "markdown",
   "metadata": {},
   "source": [
    "In summary, whenever you implement a value class that has a sensible ordering, you should have the class implement the Comparable interface so that the instance can be easily sorted, searched, and used in comparison-based collections. avoid the use of the **< and >**  operators. Instead, use the static compare methods in the boxed primitive classes or the comparator construction methods in the Comparator interface."
   ]
  },
  {
   "cell_type": "markdown",
   "metadata": {},
   "source": [
    "## 8. Note that a nonzero-length array is always mutable, so it is wrong for a class to have a public static final array field, or an accessor that returns such a field."
   ]
  }
 ],
 "metadata": {
  "kernelspec": {
   "display_name": "Python 3",
   "language": "python",
   "name": "python3"
  },
  "language_info": {
   "codemirror_mode": {
    "name": "ipython",
    "version": 3
   },
   "file_extension": ".py",
   "mimetype": "text/x-python",
   "name": "python",
   "nbconvert_exporter": "python",
   "pygments_lexer": "ipython3",
   "version": "3.6.5"
  }
 },
 "nbformat": 4,
 "nbformat_minor": 2
}
