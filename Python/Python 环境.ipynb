{
 "cells": [
  {
   "cell_type": "markdown",
   "metadata": {},
   "source": [
    "# Python 环境"
   ]
  },
  {
   "cell_type": "markdown",
   "metadata": {},
   "source": [
    "## Anaconda"
   ]
  },
  {
   "cell_type": "markdown",
   "metadata": {},
   "source": [
    "查看当前 python 环境:\n",
    "```shell\n",
    "conda env list\n",
    "```\n",
    "激活某个环境, 如 base:\n",
    "```shell\n",
    "conda activate base\n",
    "```\n",
    "升级所有包:\n",
    "```shell\n",
    "conda upgrade --all\n",
    "```\n",
    "安装包:\n",
    "```shell\n",
    "conda install xxx\n",
    "```\n",
    "安装包时候指定包的版本:\n",
    "```shell\n",
    "conda install xxx=0.1\n",
    "```\n",
    "卸载包:\n",
    "```shell\n",
    "conda remove xxx\n",
    "```\n",
    "输出当前环境配置到 yaml 文件中:\n",
    "```shell\n",
    "conda env export > environments.yaml\n",
    "```\n",
    "根据 yaml 文件创建环境:\n",
    "```shell\n",
    "conda env create -f xxx.yaml\n",
    "```\n",
    "## 懒得写了, --help, man 大法好"
   ]
  },
  {
   "cell_type": "markdown",
   "metadata": {},
   "source": [
    "## pip 管理 python 包"
   ]
  }
 ],
 "metadata": {
  "kernelspec": {
   "display_name": "Python 3",
   "language": "python",
   "name": "python3"
  },
  "language_info": {
   "codemirror_mode": {
    "name": "ipython",
    "version": 3
   },
   "file_extension": ".py",
   "mimetype": "text/x-python",
   "name": "python",
   "nbconvert_exporter": "python",
   "pygments_lexer": "ipython3",
   "version": "3.7.3"
  }
 },
 "nbformat": 4,
 "nbformat_minor": 2
}
